{
  "nbformat": 4,
  "nbformat_minor": 0,
  "metadata": {
    "colab": {
      "name": "arrange_CMFD_dataset.ipynb",
      "provenance": []
    },
    "kernelspec": {
      "name": "python3",
      "display_name": "Python 3"
    },
    "language_info": {
      "name": "python"
    }
  },
  "cells": [
    {
      "cell_type": "code",
      "metadata": {
        "colab": {
          "base_uri": "https://localhost:8080/"
        },
        "id": "Xg00Ft8uvoWC",
        "outputId": "7a41fa54-b708-4ecd-cf2b-fb889febc1f6"
      },
      "source": [
        "from google.colab import drive\n",
        "\n",
        "drive.mount('/content/drive')"
      ],
      "execution_count": 2,
      "outputs": [
        {
          "output_type": "stream",
          "text": [
            "Mounted at /content/drive\n"
          ],
          "name": "stdout"
        }
      ]
    },
    {
      "cell_type": "code",
      "metadata": {
        "id": "wtcWT-uZv54N"
      },
      "source": [
        "import os\n",
        "import ntpath\n",
        "import random\n",
        "import shutil\n",
        "import glob"
      ],
      "execution_count": 3,
      "outputs": []
    },
    {
      "cell_type": "code",
      "metadata": {
        "colab": {
          "base_uri": "https://localhost:8080/"
        },
        "id": "H2jR8g2dwF7H",
        "outputId": "f53b8472-01c1-43a9-dccb-bd454026de43"
      },
      "source": [
        "CMFD_DIR = '/content/drive/MyDrive/capstone_project/capstone_machine_learning/capstone_dataset/CMFD' # Change based on dataset dir on your system/device\n",
        "DEST_DIR = '/content/drive/MyDrive/capstone_project/capstone_machine_learning/capstone_dataset/arranged_dataset' # Change based on dataset dir on your system/device\n",
        "\n",
        "# Size for each label\n",
        "TRAIN_SIZE = 2000\n",
        "VAL_SIZE = 400\n",
        "TEST_SIZE = 400\n",
        "\n",
        "os.listdir(CMFD_DIR)"
      ],
      "execution_count": 4,
      "outputs": [
        {
          "output_type": "execute_result",
          "data": {
            "text/plain": [
              "['00000',\n",
              " '01000',\n",
              " '02000',\n",
              " '03000',\n",
              " '04000',\n",
              " '05000',\n",
              " '06000',\n",
              " '07000',\n",
              " '08000',\n",
              " '09000',\n",
              " '10000',\n",
              " '11000',\n",
              " '12000',\n",
              " '13000',\n",
              " '14000',\n",
              " '15000',\n",
              " '16000',\n",
              " '17000',\n",
              " '18000',\n",
              " '19000',\n",
              " '20000',\n",
              " '21000',\n",
              " '22000',\n",
              " '23000',\n",
              " '24000',\n",
              " '25000',\n",
              " '26000',\n",
              " '27000',\n",
              " '28000',\n",
              " '29000',\n",
              " '30000',\n",
              " '31000',\n",
              " '32000',\n",
              " '33000',\n",
              " '34000',\n",
              " '35000',\n",
              " '36000',\n",
              " '37000',\n",
              " '38000',\n",
              " '39000',\n",
              " '40000',\n",
              " '41000',\n",
              " '42000',\n",
              " '43000',\n",
              " '44000',\n",
              " '45000',\n",
              " '46000',\n",
              " '47000',\n",
              " '48000',\n",
              " '49000',\n",
              " '50000',\n",
              " '51000',\n",
              " '52000',\n",
              " '53000',\n",
              " '54000',\n",
              " '55000',\n",
              " '56000',\n",
              " '57000',\n",
              " '58000',\n",
              " '59000',\n",
              " '60000',\n",
              " '61000',\n",
              " '62000',\n",
              " '63000',\n",
              " '64000',\n",
              " '65000',\n",
              " '66000',\n",
              " '67000',\n",
              " '68000',\n",
              " '69000']"
            ]
          },
          "metadata": {
            "tags": []
          },
          "execution_count": 4
        }
      ]
    },
    {
      "cell_type": "code",
      "metadata": {
        "colab": {
          "base_uri": "https://localhost:8080/"
        },
        "id": "fFECdjXgwiEN",
        "outputId": "a663036f-4ae7-4a7f-da15-61e9ffb07d7a"
      },
      "source": [
        "# Check distribution of data in every sub-folder CMFD\n",
        "print(\"sub_folder\", \"total_mages\")\n",
        "TOTAL = 0\n",
        "for sub in os.listdir(CMFD_DIR):\n",
        "  sub_path = os.path.join(CMFD_DIR, sub)\n",
        "  total_img = len(os.listdir(sub_path))\n",
        "  TOTAL += total_img\n",
        "  print(sub, total_img)\n",
        "print(\"TOTAL IMAGES OF CMFD: \", TOTAL)"
      ],
      "execution_count": 7,
      "outputs": [
        {
          "output_type": "stream",
          "text": [
            "sub_folder total_mages\n",
            "00000 950\n",
            "01000 962\n",
            "02000 950\n",
            "03000 953\n",
            "04000 969\n",
            "05000 974\n",
            "06000 964\n",
            "07000 950\n",
            "08000 969\n",
            "09000 967\n",
            "10000 964\n",
            "11000 964\n",
            "12000 968\n",
            "13000 970\n",
            "14000 969\n",
            "15000 962\n",
            "16000 971\n",
            "17000 952\n",
            "18000 966\n",
            "19000 970\n",
            "20000 949\n",
            "21000 967\n",
            "22000 962\n",
            "23000 966\n",
            "24000 962\n",
            "25000 962\n",
            "26000 973\n",
            "27000 959\n",
            "28000 951\n",
            "29000 970\n",
            "30000 958\n",
            "31000 971\n",
            "32000 957\n",
            "33000 963\n",
            "34000 952\n",
            "35000 963\n",
            "36000 953\n",
            "37000 951\n",
            "38000 957\n",
            "39000 962\n",
            "40000 951\n",
            "41000 956\n",
            "42000 938\n",
            "43000 951\n",
            "44000 937\n",
            "45000 952\n",
            "46000 963\n",
            "47000 965\n",
            "48000 959\n",
            "49000 949\n",
            "50000 940\n",
            "51000 950\n",
            "52000 958\n",
            "53000 937\n",
            "54000 951\n",
            "55000 949\n",
            "56000 952\n",
            "57000 970\n",
            "58000 964\n",
            "59000 956\n",
            "60000 966\n",
            "61000 957\n",
            "62000 957\n",
            "63000 953\n",
            "64000 952\n",
            "65000 947\n",
            "66000 956\n",
            "67000 948\n",
            "68000 945\n",
            "69000 947\n",
            "TOTAL IMAGES OF CMFD:  67048\n"
          ],
          "name": "stdout"
        }
      ]
    },
    {
      "cell_type": "code",
      "metadata": {
        "colab": {
          "base_uri": "https://localhost:8080/"
        },
        "id": "_rQYf_uKx1S6",
        "outputId": "04b0403f-86aa-4cbf-fac7-758ecbbb7e73"
      },
      "source": [
        "# Mix all images from all sub folder\n",
        "list_all_images = []\n",
        "for sub in os.listdir(CMFD_DIR):\n",
        "  #list_sub_images = os.listdir(os.path.join(CMFD_DIR, sub))\n",
        "  #list_all_images.extend(list_sub_images)\n",
        "  sub_path = os.path.join(CMFD_DIR, sub)\n",
        "  list_sub_images = glob.glob(sub_path + '/*')\n",
        "  list_all_images.extend(list_sub_images)\n",
        "print(len(list_all_images))"
      ],
      "execution_count": 8,
      "outputs": [
        {
          "output_type": "stream",
          "text": [
            "67048\n"
          ],
          "name": "stdout"
        }
      ]
    },
    {
      "cell_type": "code",
      "metadata": {
        "id": "v-LcxDkOzutV"
      },
      "source": [
        "# Shuffle list_all_images to avoid bias\n",
        "random.shuffle(list_all_images)\n",
        "\n",
        "# Split to train, validation, and test images\n",
        "train_images = list_all_images[:TRAIN_SIZE]\n",
        "val_images = list_all_images[TRAIN_SIZE:TRAIN_SIZE+VAL_SIZE]\n",
        "test_images = list_all_images[TRAIN_SIZE+VAL_SIZE:TRAIN_SIZE+VAL_SIZE+TEST_SIZE]"
      ],
      "execution_count": 9,
      "outputs": []
    },
    {
      "cell_type": "code",
      "metadata": {
        "colab": {
          "base_uri": "https://localhost:8080/"
        },
        "id": "31kPAwak44sA",
        "outputId": "88d3c053-01e3-4121-d4fc-e73261a696fe"
      },
      "source": [
        "# Check distribution train, val, and test images\n",
        "print(len(train_images))\n",
        "print(len(val_images))\n",
        "print(len(test_images))"
      ],
      "execution_count": 10,
      "outputs": [
        {
          "output_type": "stream",
          "text": [
            "2000\n",
            "400\n",
            "400\n"
          ],
          "name": "stdout"
        }
      ]
    },
    {
      "cell_type": "code",
      "metadata": {
        "colab": {
          "base_uri": "https://localhost:8080/"
        },
        "id": "ll--LXNy5Mkh",
        "outputId": "7556cbe6-5f92-409d-c786-ca934622aea6"
      },
      "source": [
        "# Copy file to target directory\n",
        "## Copy train images\n",
        "\n",
        "train_dest = os.path.join(DEST_DIR, 'train/correctly_masked/')\n",
        "print(\"Destination train images: \", train_dest)\n",
        "for image in train_images:\n",
        "  shutil.copy(image, train_dest)\n",
        "\n",
        "print(\"Copy finished!\")\n",
        "print(\"Total train images: {}\".format(len(os.listdir(train_dest))))\n",
        "\n",
        "# Check duplicate data (all images in train data should not duplicate)\n",
        "if len(os.listdir(train_dest)) == len(set(train_images)):\n",
        "  print(\"All files are unique. No duplicate images.\")\n",
        "else:\n",
        "  print(\"There is duplicate images.\")"
      ],
      "execution_count": 16,
      "outputs": [
        {
          "output_type": "stream",
          "text": [
            "Destination train images:  /content/drive/MyDrive/capstone_project/capstone_machine_learning/capstone_dataset/arranged_dataset/train/correctly_masked/\n",
            "Copy finished!\n",
            "Total train images: 2000\n",
            "All files are unique. No duplicate images.\n"
          ],
          "name": "stdout"
        }
      ]
    },
    {
      "cell_type": "code",
      "metadata": {
        "colab": {
          "base_uri": "https://localhost:8080/"
        },
        "id": "ey1PSjHAc3UL",
        "outputId": "bded9ea8-b5b9-41a1-835f-1ad0341289a2"
      },
      "source": [
        "val_dest = os.path.join(DEST_DIR, 'validation/correctly_masked/')\n",
        "print(\"Destination validation images: \", val_dest)\n",
        "for image in val_images:\n",
        "  shutil.copy(image, val_dest)\n",
        "\n",
        "print(\"Copy finished!\")\n",
        "print(\"Total validation images: {}\".format(len(os.listdir(val_dest))))\n",
        "\n",
        "# Check duplicate data (all images in train data should not duplicate)\n",
        "if len(os.listdir(val_dest)) == len(set(val_images)):\n",
        "  print(\"All files are unique. No duplicate images.\")\n",
        "else:\n",
        "  print(\"There is duplicate images.\")"
      ],
      "execution_count": 17,
      "outputs": [
        {
          "output_type": "stream",
          "text": [
            "Destination validation images:  /content/drive/MyDrive/capstone_project/capstone_machine_learning/capstone_dataset/arranged_dataset/validation/correctly_masked/\n",
            "Copy finished!\n",
            "Total validation images: 400\n",
            "All files are unique. No duplicate images.\n"
          ],
          "name": "stdout"
        }
      ]
    },
    {
      "cell_type": "code",
      "metadata": {
        "colab": {
          "base_uri": "https://localhost:8080/"
        },
        "id": "KfADCG4FgGnG",
        "outputId": "e61f08d1-d937-4294-dae6-1ef587ea99e5"
      },
      "source": [
        "test_dest = os.path.join(DEST_DIR, 'test/correctly_masked/')\n",
        "print(\"Destination test images: \", test_dest)\n",
        "for image in test_images:\n",
        "  shutil.copy(image, test_dest)\n",
        "\n",
        "print(\"Copy finished!\")\n",
        "print(\"Total test images: {}\".format(len(os.listdir(test_dest))))\n",
        "\n",
        "# Check duplicate data (all images in train data should not duplicate)\n",
        "if len(os.listdir(test_dest)) == len(set(test_images)):\n",
        "  print(\"All files are unique. No duplicate images.\")\n",
        "else:\n",
        "  print(\"There is duplicate images.\")"
      ],
      "execution_count": 18,
      "outputs": [
        {
          "output_type": "stream",
          "text": [
            "Destination test images:  /content/drive/MyDrive/capstone_project/capstone_machine_learning/capstone_dataset/arranged_dataset/test/correctly_masked/\n",
            "Copy finished!\n",
            "Total test images: 400\n",
            "All files are unique. No duplicate images.\n"
          ],
          "name": "stdout"
        }
      ]
    },
    {
      "cell_type": "code",
      "metadata": {
        "id": "k_oSXRaajXLF"
      },
      "source": [
        ""
      ],
      "execution_count": null,
      "outputs": []
    }
  ]
}