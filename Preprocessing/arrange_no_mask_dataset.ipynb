{
  "nbformat": 4,
  "nbformat_minor": 0,
  "metadata": {
    "colab": {
      "name": "arrange_no_mask_dataset.ipynb",
      "provenance": []
    },
    "kernelspec": {
      "name": "python3",
      "display_name": "Python 3"
    },
    "language_info": {
      "name": "python"
    }
  },
  "cells": [
    {
      "cell_type": "code",
      "metadata": {
        "colab": {
          "base_uri": "https://localhost:8080/"
        },
        "id": "Xg00Ft8uvoWC",
        "outputId": "a3323f50-ea4f-497d-8246-c0667ed81ca4"
      },
      "source": [
        "from google.colab import drive\n",
        "\n",
        "drive.mount('/content/drive')"
      ],
      "execution_count": 1,
      "outputs": [
        {
          "output_type": "stream",
          "text": [
            "Mounted at /content/drive\n"
          ],
          "name": "stdout"
        }
      ]
    },
    {
      "cell_type": "code",
      "metadata": {
        "id": "wtcWT-uZv54N"
      },
      "source": [
        "import os\n",
        "import ntpath\n",
        "import random\n",
        "import shutil\n",
        "import glob"
      ],
      "execution_count": 2,
      "outputs": []
    },
    {
      "cell_type": "code",
      "metadata": {
        "colab": {
          "base_uri": "https://localhost:8080/"
        },
        "id": "H2jR8g2dwF7H",
        "outputId": "e90b1ceb-28bf-4691-90ac-1357c6551ed7"
      },
      "source": [
        "NOMASK_DIR = '/content/drive/MyDrive/capstone_project/capstone_machine_learning/capstone_dataset/images1024x1024' # Change based on dataset dir on your system/device\n",
        "DEST_DIR = '/content/drive/MyDrive/capstone_project/capstone_machine_learning/capstone_dataset/arranged_dataset' # Change based on dataset dir on your system/device\n",
        "\n",
        "# Size for each label\n",
        "TRAIN_SIZE = 2000\n",
        "VAL_SIZE = 400\n",
        "TEST_SIZE = 400\n",
        "\n",
        "#os.listdir(NOMASK_DIR)\n",
        "os.listdir(NOMASK_DIR)"
      ],
      "execution_count": 7,
      "outputs": [
        {
          "output_type": "execute_result",
          "data": {
            "text/plain": [
              "['LICENSE.txt',\n",
              " '00000',\n",
              " '01000',\n",
              " '02000',\n",
              " '03000',\n",
              " '04000',\n",
              " '05000',\n",
              " '06000',\n",
              " '07000',\n",
              " '08000',\n",
              " '09000',\n",
              " '10000',\n",
              " '11000',\n",
              " '12000',\n",
              " '13000',\n",
              " '14000',\n",
              " '15000',\n",
              " '16000',\n",
              " '17000',\n",
              " '18000',\n",
              " '19000',\n",
              " '20000',\n",
              " '21000',\n",
              " '22000',\n",
              " '23000',\n",
              " '24000',\n",
              " '25000',\n",
              " '26000',\n",
              " '27000',\n",
              " '28000',\n",
              " '29000',\n",
              " '30000',\n",
              " '31000',\n",
              " '32000',\n",
              " '33000',\n",
              " '34000',\n",
              " '35000',\n",
              " '36000',\n",
              " '37000',\n",
              " '38000',\n",
              " '39000',\n",
              " '40000',\n",
              " '41000',\n",
              " '42000',\n",
              " '43000',\n",
              " '44000',\n",
              " '45000',\n",
              " '46000',\n",
              " '47000',\n",
              " '48000',\n",
              " '49000',\n",
              " '50000',\n",
              " '51000',\n",
              " '52000',\n",
              " '53000',\n",
              " '54000',\n",
              " '55000',\n",
              " '56000',\n",
              " '57000',\n",
              " '58000',\n",
              " '59000',\n",
              " '60000',\n",
              " '61000',\n",
              " '62000',\n",
              " '63000',\n",
              " '64000',\n",
              " '65000',\n",
              " '66000',\n",
              " '67000',\n",
              " '68000',\n",
              " '69000']"
            ]
          },
          "metadata": {
            "tags": []
          },
          "execution_count": 7
        }
      ]
    },
    {
      "cell_type": "code",
      "metadata": {
        "colab": {
          "base_uri": "https://localhost:8080/"
        },
        "id": "7CJb3SuEo_mC",
        "outputId": "08139573-9796-4f24-c88b-0e58083fe585"
      },
      "source": [
        "# Get sub folder only because in the directory contain another file (.txt)\n",
        "sub_folders = glob.glob(NOMASK_DIR + '/*[0-9]*')\n",
        "sub_folders"
      ],
      "execution_count": 8,
      "outputs": [
        {
          "output_type": "execute_result",
          "data": {
            "text/plain": [
              "['/content/drive/MyDrive/capstone_project/capstone_machine_learning/capstone_dataset/images1024x1024/00000',\n",
              " '/content/drive/MyDrive/capstone_project/capstone_machine_learning/capstone_dataset/images1024x1024/01000',\n",
              " '/content/drive/MyDrive/capstone_project/capstone_machine_learning/capstone_dataset/images1024x1024/02000',\n",
              " '/content/drive/MyDrive/capstone_project/capstone_machine_learning/capstone_dataset/images1024x1024/03000',\n",
              " '/content/drive/MyDrive/capstone_project/capstone_machine_learning/capstone_dataset/images1024x1024/04000',\n",
              " '/content/drive/MyDrive/capstone_project/capstone_machine_learning/capstone_dataset/images1024x1024/05000',\n",
              " '/content/drive/MyDrive/capstone_project/capstone_machine_learning/capstone_dataset/images1024x1024/06000',\n",
              " '/content/drive/MyDrive/capstone_project/capstone_machine_learning/capstone_dataset/images1024x1024/07000',\n",
              " '/content/drive/MyDrive/capstone_project/capstone_machine_learning/capstone_dataset/images1024x1024/08000',\n",
              " '/content/drive/MyDrive/capstone_project/capstone_machine_learning/capstone_dataset/images1024x1024/09000',\n",
              " '/content/drive/MyDrive/capstone_project/capstone_machine_learning/capstone_dataset/images1024x1024/10000',\n",
              " '/content/drive/MyDrive/capstone_project/capstone_machine_learning/capstone_dataset/images1024x1024/11000',\n",
              " '/content/drive/MyDrive/capstone_project/capstone_machine_learning/capstone_dataset/images1024x1024/12000',\n",
              " '/content/drive/MyDrive/capstone_project/capstone_machine_learning/capstone_dataset/images1024x1024/13000',\n",
              " '/content/drive/MyDrive/capstone_project/capstone_machine_learning/capstone_dataset/images1024x1024/14000',\n",
              " '/content/drive/MyDrive/capstone_project/capstone_machine_learning/capstone_dataset/images1024x1024/15000',\n",
              " '/content/drive/MyDrive/capstone_project/capstone_machine_learning/capstone_dataset/images1024x1024/16000',\n",
              " '/content/drive/MyDrive/capstone_project/capstone_machine_learning/capstone_dataset/images1024x1024/17000',\n",
              " '/content/drive/MyDrive/capstone_project/capstone_machine_learning/capstone_dataset/images1024x1024/18000',\n",
              " '/content/drive/MyDrive/capstone_project/capstone_machine_learning/capstone_dataset/images1024x1024/19000',\n",
              " '/content/drive/MyDrive/capstone_project/capstone_machine_learning/capstone_dataset/images1024x1024/20000',\n",
              " '/content/drive/MyDrive/capstone_project/capstone_machine_learning/capstone_dataset/images1024x1024/21000',\n",
              " '/content/drive/MyDrive/capstone_project/capstone_machine_learning/capstone_dataset/images1024x1024/22000',\n",
              " '/content/drive/MyDrive/capstone_project/capstone_machine_learning/capstone_dataset/images1024x1024/23000',\n",
              " '/content/drive/MyDrive/capstone_project/capstone_machine_learning/capstone_dataset/images1024x1024/24000',\n",
              " '/content/drive/MyDrive/capstone_project/capstone_machine_learning/capstone_dataset/images1024x1024/25000',\n",
              " '/content/drive/MyDrive/capstone_project/capstone_machine_learning/capstone_dataset/images1024x1024/26000',\n",
              " '/content/drive/MyDrive/capstone_project/capstone_machine_learning/capstone_dataset/images1024x1024/27000',\n",
              " '/content/drive/MyDrive/capstone_project/capstone_machine_learning/capstone_dataset/images1024x1024/28000',\n",
              " '/content/drive/MyDrive/capstone_project/capstone_machine_learning/capstone_dataset/images1024x1024/29000',\n",
              " '/content/drive/MyDrive/capstone_project/capstone_machine_learning/capstone_dataset/images1024x1024/30000',\n",
              " '/content/drive/MyDrive/capstone_project/capstone_machine_learning/capstone_dataset/images1024x1024/31000',\n",
              " '/content/drive/MyDrive/capstone_project/capstone_machine_learning/capstone_dataset/images1024x1024/32000',\n",
              " '/content/drive/MyDrive/capstone_project/capstone_machine_learning/capstone_dataset/images1024x1024/33000',\n",
              " '/content/drive/MyDrive/capstone_project/capstone_machine_learning/capstone_dataset/images1024x1024/34000',\n",
              " '/content/drive/MyDrive/capstone_project/capstone_machine_learning/capstone_dataset/images1024x1024/35000',\n",
              " '/content/drive/MyDrive/capstone_project/capstone_machine_learning/capstone_dataset/images1024x1024/36000',\n",
              " '/content/drive/MyDrive/capstone_project/capstone_machine_learning/capstone_dataset/images1024x1024/37000',\n",
              " '/content/drive/MyDrive/capstone_project/capstone_machine_learning/capstone_dataset/images1024x1024/38000',\n",
              " '/content/drive/MyDrive/capstone_project/capstone_machine_learning/capstone_dataset/images1024x1024/39000',\n",
              " '/content/drive/MyDrive/capstone_project/capstone_machine_learning/capstone_dataset/images1024x1024/40000',\n",
              " '/content/drive/MyDrive/capstone_project/capstone_machine_learning/capstone_dataset/images1024x1024/41000',\n",
              " '/content/drive/MyDrive/capstone_project/capstone_machine_learning/capstone_dataset/images1024x1024/42000',\n",
              " '/content/drive/MyDrive/capstone_project/capstone_machine_learning/capstone_dataset/images1024x1024/43000',\n",
              " '/content/drive/MyDrive/capstone_project/capstone_machine_learning/capstone_dataset/images1024x1024/44000',\n",
              " '/content/drive/MyDrive/capstone_project/capstone_machine_learning/capstone_dataset/images1024x1024/45000',\n",
              " '/content/drive/MyDrive/capstone_project/capstone_machine_learning/capstone_dataset/images1024x1024/46000',\n",
              " '/content/drive/MyDrive/capstone_project/capstone_machine_learning/capstone_dataset/images1024x1024/47000',\n",
              " '/content/drive/MyDrive/capstone_project/capstone_machine_learning/capstone_dataset/images1024x1024/48000',\n",
              " '/content/drive/MyDrive/capstone_project/capstone_machine_learning/capstone_dataset/images1024x1024/49000',\n",
              " '/content/drive/MyDrive/capstone_project/capstone_machine_learning/capstone_dataset/images1024x1024/50000',\n",
              " '/content/drive/MyDrive/capstone_project/capstone_machine_learning/capstone_dataset/images1024x1024/51000',\n",
              " '/content/drive/MyDrive/capstone_project/capstone_machine_learning/capstone_dataset/images1024x1024/52000',\n",
              " '/content/drive/MyDrive/capstone_project/capstone_machine_learning/capstone_dataset/images1024x1024/53000',\n",
              " '/content/drive/MyDrive/capstone_project/capstone_machine_learning/capstone_dataset/images1024x1024/54000',\n",
              " '/content/drive/MyDrive/capstone_project/capstone_machine_learning/capstone_dataset/images1024x1024/55000',\n",
              " '/content/drive/MyDrive/capstone_project/capstone_machine_learning/capstone_dataset/images1024x1024/56000',\n",
              " '/content/drive/MyDrive/capstone_project/capstone_machine_learning/capstone_dataset/images1024x1024/57000',\n",
              " '/content/drive/MyDrive/capstone_project/capstone_machine_learning/capstone_dataset/images1024x1024/58000',\n",
              " '/content/drive/MyDrive/capstone_project/capstone_machine_learning/capstone_dataset/images1024x1024/59000',\n",
              " '/content/drive/MyDrive/capstone_project/capstone_machine_learning/capstone_dataset/images1024x1024/60000',\n",
              " '/content/drive/MyDrive/capstone_project/capstone_machine_learning/capstone_dataset/images1024x1024/61000',\n",
              " '/content/drive/MyDrive/capstone_project/capstone_machine_learning/capstone_dataset/images1024x1024/62000',\n",
              " '/content/drive/MyDrive/capstone_project/capstone_machine_learning/capstone_dataset/images1024x1024/63000',\n",
              " '/content/drive/MyDrive/capstone_project/capstone_machine_learning/capstone_dataset/images1024x1024/64000',\n",
              " '/content/drive/MyDrive/capstone_project/capstone_machine_learning/capstone_dataset/images1024x1024/65000',\n",
              " '/content/drive/MyDrive/capstone_project/capstone_machine_learning/capstone_dataset/images1024x1024/66000',\n",
              " '/content/drive/MyDrive/capstone_project/capstone_machine_learning/capstone_dataset/images1024x1024/67000',\n",
              " '/content/drive/MyDrive/capstone_project/capstone_machine_learning/capstone_dataset/images1024x1024/68000',\n",
              " '/content/drive/MyDrive/capstone_project/capstone_machine_learning/capstone_dataset/images1024x1024/69000']"
            ]
          },
          "metadata": {
            "tags": []
          },
          "execution_count": 8
        }
      ]
    },
    {
      "cell_type": "code",
      "metadata": {
        "colab": {
          "base_uri": "https://localhost:8080/"
        },
        "id": "fFECdjXgwiEN",
        "outputId": "afa2c12f-62ba-4754-89f2-b8482311663b"
      },
      "source": [
        "# Check distribution of data in every sub-folder CMFD\n",
        "print(\"sub_folder\", \"total_mages\")\n",
        "TOTAL = 0\n",
        "for sub_path in sub_folders:\n",
        "  total_img = len(os.listdir(sub_path))\n",
        "  TOTAL += total_img\n",
        "  print(sub_path.split('/')[-1], total_img)\n",
        "print(\"TOTAL IMAGES OF No Mask/Only Face: \", TOTAL)"
      ],
      "execution_count": 10,
      "outputs": [
        {
          "output_type": "stream",
          "text": [
            "sub_folder total_mages\n",
            "00000 1000\n",
            "01000 1000\n",
            "02000 1000\n",
            "03000 1000\n",
            "04000 1000\n",
            "05000 1000\n",
            "06000 1000\n",
            "07000 1000\n",
            "08000 1000\n",
            "09000 1000\n",
            "10000 1000\n",
            "11000 1000\n",
            "12000 1000\n",
            "13000 1000\n",
            "14000 1000\n",
            "15000 1000\n",
            "16000 1000\n",
            "17000 1000\n",
            "18000 1000\n",
            "19000 1000\n",
            "20000 1000\n",
            "21000 1000\n",
            "22000 1000\n",
            "23000 1000\n",
            "24000 1000\n",
            "25000 1000\n",
            "26000 1000\n",
            "27000 1000\n",
            "28000 1000\n",
            "29000 1000\n",
            "30000 1000\n",
            "31000 1000\n",
            "32000 1000\n",
            "33000 1000\n",
            "34000 1000\n",
            "35000 1000\n",
            "36000 1000\n",
            "37000 1000\n",
            "38000 1000\n",
            "39000 1000\n",
            "40000 1000\n",
            "41000 1000\n",
            "42000 1000\n",
            "43000 1000\n",
            "44000 1000\n",
            "45000 1000\n",
            "46000 1000\n",
            "47000 1000\n",
            "48000 1000\n",
            "49000 1000\n",
            "50000 1000\n",
            "51000 1000\n",
            "52000 1000\n",
            "53000 1000\n",
            "54000 1000\n",
            "55000 1000\n",
            "56000 1000\n",
            "57000 1000\n",
            "58000 1000\n",
            "59000 1000\n",
            "60000 1000\n",
            "61000 1000\n",
            "62000 1000\n",
            "63000 1000\n",
            "64000 1000\n",
            "65000 1000\n",
            "66000 1000\n",
            "67000 1000\n",
            "68000 1000\n",
            "69000 1000\n",
            "TOTAL IMAGES OF No Mask/Only Face:  70000\n"
          ],
          "name": "stdout"
        }
      ]
    },
    {
      "cell_type": "code",
      "metadata": {
        "colab": {
          "base_uri": "https://localhost:8080/"
        },
        "id": "_rQYf_uKx1S6",
        "outputId": "51507923-5c2f-46a8-dcb1-a7f1e831c841"
      },
      "source": [
        "# Mix all images from all sub folder\n",
        "list_all_images = []\n",
        "for sub_path in sub_folders:\n",
        "  list_sub_images = glob.glob(sub_path + '/*')\n",
        "  list_all_images.extend(list_sub_images)\n",
        "print(len(list_all_images))"
      ],
      "execution_count": 11,
      "outputs": [
        {
          "output_type": "stream",
          "text": [
            "70000\n"
          ],
          "name": "stdout"
        }
      ]
    },
    {
      "cell_type": "code",
      "metadata": {
        "id": "v-LcxDkOzutV"
      },
      "source": [
        "# Shuffle list_all_images to avoid bias\n",
        "random.shuffle(list_all_images)\n",
        "\n",
        "# Split to train, validation, and test images\n",
        "train_images = list_all_images[:TRAIN_SIZE]\n",
        "val_images = list_all_images[TRAIN_SIZE:TRAIN_SIZE+VAL_SIZE]\n",
        "test_images = list_all_images[TRAIN_SIZE+VAL_SIZE:TRAIN_SIZE+VAL_SIZE+TEST_SIZE]"
      ],
      "execution_count": 12,
      "outputs": []
    },
    {
      "cell_type": "code",
      "metadata": {
        "colab": {
          "base_uri": "https://localhost:8080/"
        },
        "id": "31kPAwak44sA",
        "outputId": "a5cfefba-a5f1-4847-9cff-7813c12e882c"
      },
      "source": [
        "# Check distribution train, val, and test images\n",
        "print(len(train_images))\n",
        "print(len(val_images))\n",
        "print(len(test_images))"
      ],
      "execution_count": 13,
      "outputs": [
        {
          "output_type": "stream",
          "text": [
            "2000\n",
            "400\n",
            "400\n"
          ],
          "name": "stdout"
        }
      ]
    },
    {
      "cell_type": "code",
      "metadata": {
        "colab": {
          "base_uri": "https://localhost:8080/"
        },
        "id": "ll--LXNy5Mkh",
        "outputId": "aa6b1335-df92-4ab7-c446-496d4b2f6f0a"
      },
      "source": [
        "# Copy file to target directory\n",
        "## Copy train images\n",
        "\n",
        "train_dest = os.path.join(DEST_DIR, 'train/no_mask/')\n",
        "print(\"Destination train images: \", train_dest)\n",
        "for image in train_images:\n",
        "  shutil.copy(image, train_dest)\n",
        "\n",
        "print(\"Copy finished!\")\n",
        "print(\"Total train images: {}\".format(len(os.listdir(train_dest))))\n",
        "\n",
        "# Check duplicate data (all images in train data should not duplicate)\n",
        "if len(os.listdir(train_dest)) == len(set(train_images)):\n",
        "  print(\"All files are unique. No duplicate images.\")\n",
        "else:\n",
        "  print(\"There is duplicate images.\")"
      ],
      "execution_count": 14,
      "outputs": [
        {
          "output_type": "stream",
          "text": [
            "Destination train images:  /content/drive/MyDrive/capstone_project/capstone_machine_learning/capstone_dataset/arranged_dataset/train/no_mask/\n",
            "Copy finished!\n",
            "Total train images: 2000\n",
            "All files are unique. No duplicate images.\n"
          ],
          "name": "stdout"
        }
      ]
    },
    {
      "cell_type": "code",
      "metadata": {
        "colab": {
          "base_uri": "https://localhost:8080/"
        },
        "id": "ey1PSjHAc3UL",
        "outputId": "8a4e3ad8-9099-485a-ed5f-fcd50593cf22"
      },
      "source": [
        "val_dest = os.path.join(DEST_DIR, 'validation/no_mask/')\n",
        "print(\"Destination validation images: \", val_dest)\n",
        "for image in val_images:\n",
        "  shutil.copy(image, val_dest)\n",
        "\n",
        "print(\"Copy finished!\")\n",
        "print(\"Total validation images: {}\".format(len(os.listdir(val_dest))))\n",
        "\n",
        "# Check duplicate data (all images in train data should not duplicate)\n",
        "if len(os.listdir(val_dest)) == len(set(val_images)):\n",
        "  print(\"All files are unique. No duplicate images.\")\n",
        "else:\n",
        "  print(\"There is duplicate images.\")"
      ],
      "execution_count": 15,
      "outputs": [
        {
          "output_type": "stream",
          "text": [
            "Destination validation images:  /content/drive/MyDrive/capstone_project/capstone_machine_learning/capstone_dataset/arranged_dataset/validation/no_mask/\n",
            "Copy finished!\n",
            "Total validation images: 400\n",
            "All files are unique. No duplicate images.\n"
          ],
          "name": "stdout"
        }
      ]
    },
    {
      "cell_type": "code",
      "metadata": {
        "colab": {
          "base_uri": "https://localhost:8080/"
        },
        "id": "KfADCG4FgGnG",
        "outputId": "c16aae40-33c3-41d7-b6a9-4a0178a63f12"
      },
      "source": [
        "test_dest = os.path.join(DEST_DIR, 'test/no_mask/')\n",
        "print(\"Destination test images: \", test_dest)\n",
        "for image in test_images:\n",
        "  shutil.copy(image, test_dest)\n",
        "\n",
        "print(\"Copy finished!\")\n",
        "print(\"Total test images: {}\".format(len(os.listdir(test_dest))))\n",
        "\n",
        "# Check duplicate data (all images in train data should not duplicate)\n",
        "if len(os.listdir(test_dest)) == len(set(test_images)):\n",
        "  print(\"All files are unique. No duplicate images.\")\n",
        "else:\n",
        "  print(\"There is duplicate images.\")"
      ],
      "execution_count": 16,
      "outputs": [
        {
          "output_type": "stream",
          "text": [
            "Destination test images:  /content/drive/MyDrive/capstone_project/capstone_machine_learning/capstone_dataset/arranged_dataset/test/no_mask/\n",
            "Copy finished!\n",
            "Total test images: 400\n",
            "All files are unique. No duplicate images.\n"
          ],
          "name": "stdout"
        }
      ]
    },
    {
      "cell_type": "code",
      "metadata": {
        "id": "k_oSXRaajXLF"
      },
      "source": [
        ""
      ],
      "execution_count": null,
      "outputs": []
    }
  ]
}